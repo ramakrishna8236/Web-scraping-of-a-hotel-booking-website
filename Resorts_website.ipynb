{
 "cells": [
  {
   "cell_type": "code",
   "execution_count": 46,
   "id": "ef3bcdea",
   "metadata": {},
   "outputs": [],
   "source": [
    "import requests\n",
    "from bs4 import BeautifulSoup as soup"
   ]
  },
  {
   "cell_type": "code",
   "execution_count": 47,
   "id": "4c31eb81",
   "metadata": {},
   "outputs": [
    {
     "data": {
      "text/plain": [
       "200"
      ]
     },
     "execution_count": 47,
     "metadata": {},
     "output_type": "execute_result"
    }
   ],
   "source": [
    "html=requests.get(\"https://www.thrillophilia.com/tags/resorts--2\")\n",
    "html.status_code"
   ]
  },
  {
   "cell_type": "code",
   "execution_count": null,
   "id": "f89a996b",
   "metadata": {},
   "outputs": [],
   "source": []
  },
  {
   "cell_type": "code",
   "execution_count": 49,
   "id": "d94b126e",
   "metadata": {},
   "outputs": [],
   "source": [
    "bsobj=bs4.BeautifulSoup(resorts.text,\"lxml\")"
   ]
  },
  {
   "cell_type": "code",
   "execution_count": null,
   "id": "5ad1d926",
   "metadata": {},
   "outputs": [],
   "source": []
  },
  {
   "cell_type": "code",
   "execution_count": 148,
   "id": "e47ec803",
   "metadata": {},
   "outputs": [
    {
     "data": {
      "text/plain": [
       "['Garden of Dreams, Pushkar By Barasingha Luxury',\n",
       " 'Larisa Resort, Manali | Luxury Staycation Deal',\n",
       " 'Larisa Resort, Shimla | Luxury Staycation Deal',\n",
       " 'South Palm Resort Maldives',\n",
       " 'Paradise Island Resort Maldives',\n",
       " 'Adaaran Select Hudhuran Fushi Maldives',\n",
       " 'OBLU by Atmosphere at Helengeli Maldives',\n",
       " 'Kuramathi Maldives Resort',\n",
       " 'Kodai Resort, Kodaikanal | Luxury Staycation Deal',\n",
       " 'Adaaran Club Rannalhi, Maldives',\n",
       " 'Kihaa Maldives Resort',\n",
       " 'Adaaran Prestige Vadoo Maldives',\n",
       " 'Oblu Select at Sangeli, Maldives',\n",
       " 'Blackberry Hills Resort, Munnar | Luxury Staycation Deal',\n",
       " 'Devonshire Greens Leisure Hotel, Munnar | Luxury Staycation Deal',\n",
       " 'Sirsi Haveli By WelcomHeritage ITC, Jaipur | Luxury Staycation Deal',\n",
       " 'Traditional Haveli Hotel, Jaipur | Luxury Staycation Deal',\n",
       " 'Tarangi Resort, Jim Corbett | Luxury Staycation Deal',\n",
       " 'Tree Of Life - Chota Mahal, Amer',\n",
       " 'WelcomHeritage Fernhills Royal Palace, Ooty']"
      ]
     },
     "execution_count": 148,
     "metadata": {},
     "output_type": "execute_result"
    }
   ],
   "source": [
    "resorts=[]\n",
    "for name in bsobj.find_all('a',{'class':'result-content-heading'}):\n",
    "    resorts.append(name.text.strip())\n",
    "    \n",
    "resorts"
   ]
  },
  {
   "cell_type": "code",
   "execution_count": 59,
   "id": "43a8bf80",
   "metadata": {},
   "outputs": [
    {
     "data": {
      "text/plain": [
       "['4.92',\n",
       " '4.67',\n",
       " '4.75',\n",
       " '4.5',\n",
       " '4.5',\n",
       " '4.5',\n",
       " '4.6',\n",
       " '4.5',\n",
       " '4.5',\n",
       " '4.67',\n",
       " '4.5',\n",
       " '4.75',\n",
       " '4.5',\n",
       " '4.5',\n",
       " '4.5',\n",
       " '4.5',\n",
       " '4.5',\n",
       " '4.5',\n",
       " '4.5',\n",
       " '4.5']"
      ]
     },
     "execution_count": 59,
     "metadata": {},
     "output_type": "execute_result"
    }
   ],
   "source": [
    "ratings=[]\n",
    "for rating in bsobj.find_all('div',{'class':'numeric-rating'}):\n",
    "    ratings.append(rating.text.strip())\n",
    "\n",
    "ratings"
   ]
  },
  {
   "cell_type": "code",
   "execution_count": 96,
   "id": "6cde3769",
   "metadata": {},
   "outputs": [
    {
     "data": {
      "text/plain": [
       "['Pushkar',\n",
       " 'Manali',\n",
       " 'Shimla',\n",
       " 'Male',\n",
       " 'Male',\n",
       " 'Male',\n",
       " 'Male',\n",
       " 'Male',\n",
       " 'Kodaikanal',\n",
       " 'Male',\n",
       " 'Male',\n",
       " 'Male',\n",
       " 'Male',\n",
       " 'Munnar',\n",
       " 'Munnar',\n",
       " 'Jaipur',\n",
       " 'Jaipur',\n",
       " 'Corbett',\n",
       " 'Jaipur',\n",
       " 'Ooty']"
      ]
     },
     "execution_count": 96,
     "metadata": {},
     "output_type": "execute_result"
    }
   ],
   "source": [
    "places=[]\n",
    "for place in bsobj.find_all('div',{'class':'info-nugget inline-block'}):\n",
    "    places.append(place.text.strip())\n",
    "\n",
    "places\n",
    "places=[i for i in places if i[0].isnumeric() is False]\n",
    "places"
   ]
  },
  {
   "cell_type": "code",
   "execution_count": 167,
   "id": "afa6afa7",
   "metadata": {},
   "outputs": [
    {
     "data": {
      "text/plain": [
       "['3 guests · 1 bedroom',\n",
       " '3 guests',\n",
       " '3 guests',\n",
       " 'NA',\n",
       " '2 guests',\n",
       " '2 guests',\n",
       " '2 guests',\n",
       " '2 guests',\n",
       " '3 guests',\n",
       " '2 guests',\n",
       " 'NA',\n",
       " '2 guests',\n",
       " '2 guests',\n",
       " '3 guests',\n",
       " '2-3 guests',\n",
       " '3 guests',\n",
       " '1-3 guests',\n",
       " '3 guests',\n",
       " '3 guests',\n",
       " '2-3 guests']"
      ]
     },
     "execution_count": 167,
     "metadata": {},
     "output_type": "execute_result"
    }
   ],
   "source": [
    "# Find all the <div> tags with class=\"result-card-content-section inline-block\"\n",
    "result_card_divs = bsobj.find_all('div', {'class':'result-card-content-section inline-block'})\n",
    "rooms=[]\n",
    "# Iterate over each <div> tag and extract the details of <div class=\"stays-extra-details\">\n",
    "for result_card_div in result_card_divs:\n",
    "    stays_extra_details_div = result_card_div.find('div', {'class':'stays-extra-details'})\n",
    "    if stays_extra_details_div is not None:\n",
    "        # Extract the details of <div class=\"stays-extra-details\"> here\n",
    "        rooms.append(stays_extra_details_div.text.strip())\n",
    "    else:\n",
    "        rooms.append(\"NA\")\n",
    "        \n",
    "rooms"
   ]
  },
  {
   "cell_type": "code",
   "execution_count": 140,
   "id": "01402ac7",
   "metadata": {},
   "outputs": [
    {
     "data": {
      "text/plain": [
       "['₹ 10,000 per Room',\n",
       " '₹ 8,499 per Room',\n",
       " '₹ 13,500 per Room',\n",
       " '₹ 9,999 per Adult',\n",
       " '₹ 5,800 per Adult',\n",
       " '₹ 3,999 per Adult',\n",
       " '₹ 113,446 per Adult',\n",
       " '₹ 75,000 per Adult',\n",
       " '₹ 120,000 per Room',\n",
       " '₹ 81,000 per Adult',\n",
       " '₹ 135,000 per Adult',\n",
       " '₹ 89,500 per Adult',\n",
       " '₹ 145,000 per Adult',\n",
       " '₹ 95,000 per Room',\n",
       " '₹ 150,000 per Room',\n",
       " '₹ 99,500 per Room',\n",
       " '₹ 5,500 per Room',\n",
       " '₹ 3,499 per Room',\n",
       " '₹ 127,100 per Room',\n",
       " '₹ 80,000 per Room']"
      ]
     },
     "execution_count": 140,
     "metadata": {},
     "output_type": "execute_result"
    }
   ],
   "source": [
    "prices=[]\n",
    "for price in bsobj.find_all('span',{'class':\"th-currency-tag\"}):\n",
    "    prices.append(price.text.strip())\n",
    "\n",
    "\n",
    "\n",
    "tags=[]\n",
    "for tag in bsobj.find_all('span',{'class':\"current-price-inventory-name\"}):\n",
    "    tags.append(tag.text.strip())\n",
    "\n",
    "\n",
    "\n",
    "rates = [x +\" \" +y for x, y in zip(prices, tags)]\n",
    "rates       "
   ]
  },
  {
   "cell_type": "code",
   "execution_count": 157,
   "id": "426405ff",
   "metadata": {},
   "outputs": [
    {
     "name": "stdout",
     "output_type": "stream",
     "text": [
      "['Garden of Dreams, Pushkar By Barasingha Luxury', 'Larisa Resort, Manali | Luxury Staycation Deal', 'Larisa Resort, Shimla | Luxury Staycation Deal', 'South Palm Resort Maldives', 'Paradise Island Resort Maldives', 'Adaaran Select Hudhuran Fushi Maldives', 'OBLU by Atmosphere at Helengeli Maldives', 'Kuramathi Maldives Resort', 'Kodai Resort, Kodaikanal | Luxury Staycation Deal', 'Adaaran Club Rannalhi, Maldives', 'Kihaa Maldives Resort', 'Adaaran Prestige Vadoo Maldives', 'Oblu Select at Sangeli, Maldives', 'Blackberry Hills Resort, Munnar | Luxury Staycation Deal', 'Devonshire Greens Leisure Hotel, Munnar | Luxury Staycation Deal', 'Sirsi Haveli By WelcomHeritage ITC, Jaipur | Luxury Staycation Deal', 'Traditional Haveli Hotel, Jaipur | Luxury Staycation Deal', 'Tarangi Resort, Jim Corbett | Luxury Staycation Deal', 'Tree Of Life - Chota Mahal, Amer', 'WelcomHeritage Fernhills Royal Palace, Ooty']\n",
      "20\n"
     ]
    }
   ],
   "source": [
    "print(resorts)\n",
    "print(len(resorts))"
   ]
  },
  {
   "cell_type": "code",
   "execution_count": 153,
   "id": "7001aa69",
   "metadata": {},
   "outputs": [
    {
     "name": "stdout",
     "output_type": "stream",
     "text": [
      "['4.92', '4.67', '4.75', '4.5', '4.5', '4.5', '4.6', '4.5', '4.5', '4.67', '4.5', '4.75', '4.5', '4.5', '4.5', '4.5', '4.5', '4.5', '4.5', '4.5']\n",
      "20\n"
     ]
    }
   ],
   "source": [
    "print(ratings)\n",
    "print(len(ratings))"
   ]
  },
  {
   "cell_type": "code",
   "execution_count": 154,
   "id": "6243889e",
   "metadata": {},
   "outputs": [
    {
     "name": "stdout",
     "output_type": "stream",
     "text": [
      "['Pushkar', 'Manali', 'Shimla', 'Male', 'Male', 'Male', 'Male', 'Male', 'Kodaikanal', 'Male', 'Male', 'Male', 'Male', 'Munnar', 'Munnar', 'Jaipur', 'Jaipur', 'Corbett', 'Jaipur', 'Ooty']\n",
      "20\n"
     ]
    }
   ],
   "source": [
    "print(places)\n",
    "print(len(places))"
   ]
  },
  {
   "cell_type": "code",
   "execution_count": 168,
   "id": "15064be6",
   "metadata": {},
   "outputs": [
    {
     "name": "stdout",
     "output_type": "stream",
     "text": [
      "['3 guests · 1 bedroom', '3 guests', '3 guests', 'NA', '2 guests', '2 guests', '2 guests', '2 guests', '3 guests', '2 guests', 'NA', '2 guests', '2 guests', '3 guests', '2-3 guests', '3 guests', '1-3 guests', '3 guests', '3 guests', '2-3 guests']\n",
      "20\n"
     ]
    }
   ],
   "source": [
    "print(rooms)\n",
    "print(len(rooms))"
   ]
  },
  {
   "cell_type": "code",
   "execution_count": 156,
   "id": "fe897b13",
   "metadata": {},
   "outputs": [
    {
     "name": "stdout",
     "output_type": "stream",
     "text": [
      "['₹ 10,000 per Room', '₹ 8,499 per Room', '₹ 13,500 per Room', '₹ 9,999 per Adult', '₹ 5,800 per Adult', '₹ 3,999 per Adult', '₹ 113,446 per Adult', '₹ 75,000 per Adult', '₹ 120,000 per Room', '₹ 81,000 per Adult', '₹ 135,000 per Adult', '₹ 89,500 per Adult', '₹ 145,000 per Adult', '₹ 95,000 per Room', '₹ 150,000 per Room', '₹ 99,500 per Room', '₹ 5,500 per Room', '₹ 3,499 per Room', '₹ 127,100 per Room', '₹ 80,000 per Room']\n",
      "20\n"
     ]
    }
   ],
   "source": [
    "print(rates)\n",
    "print(len(rates))"
   ]
  },
  {
   "cell_type": "code",
   "execution_count": null,
   "id": "9cd167a3",
   "metadata": {},
   "outputs": [],
   "source": [
    "\n"
   ]
  },
  {
   "cell_type": "code",
   "execution_count": 178,
   "id": "6847175c",
   "metadata": {},
   "outputs": [
    {
     "name": "stdout",
     "output_type": "stream",
     "text": [
      "                                                                 Resort  \\\n",
      "0                        Garden of Dreams, Pushkar By Barasingha Luxury   \n",
      "1                        Larisa Resort, Manali | Luxury Staycation Deal   \n",
      "2                        Larisa Resort, Shimla | Luxury Staycation Deal   \n",
      "3                                            South Palm Resort Maldives   \n",
      "4                                       Paradise Island Resort Maldives   \n",
      "5                                Adaaran Select Hudhuran Fushi Maldives   \n",
      "6                              OBLU by Atmosphere at Helengeli Maldives   \n",
      "7                                             Kuramathi Maldives Resort   \n",
      "8                     Kodai Resort, Kodaikanal | Luxury Staycation Deal   \n",
      "9                                       Adaaran Club Rannalhi, Maldives   \n",
      "10                                                Kihaa Maldives Resort   \n",
      "11                                      Adaaran Prestige Vadoo Maldives   \n",
      "12                                     Oblu Select at Sangeli, Maldives   \n",
      "13             Blackberry Hills Resort, Munnar | Luxury Staycation Deal   \n",
      "14     Devonshire Greens Leisure Hotel, Munnar | Luxury Staycation Deal   \n",
      "15  Sirsi Haveli By WelcomHeritage ITC, Jaipur | Luxury Staycation Deal   \n",
      "16            Traditional Haveli Hotel, Jaipur | Luxury Staycation Deal   \n",
      "17                 Tarangi Resort, Jim Corbett | Luxury Staycation Deal   \n",
      "18                                     Tree Of Life - Chota Mahal, Amer   \n",
      "19                          WelcomHeritage Fernhills Royal Palace, Ooty   \n",
      "\n",
      "   Rating       Place                 Rooms                Rates  \n",
      "0    4.92     Pushkar  3 guests · 1 bedroom    ₹ 10,000 per Room  \n",
      "1    4.67      Manali              3 guests     ₹ 8,499 per Room  \n",
      "2    4.75      Shimla              3 guests    ₹ 13,500 per Room  \n",
      "3     4.5        Male                    NA    ₹ 9,999 per Adult  \n",
      "4     4.5        Male              2 guests    ₹ 5,800 per Adult  \n",
      "5     4.5        Male              2 guests    ₹ 3,999 per Adult  \n",
      "6     4.6        Male              2 guests  ₹ 113,446 per Adult  \n",
      "7     4.5        Male              2 guests   ₹ 75,000 per Adult  \n",
      "8     4.5  Kodaikanal              3 guests   ₹ 120,000 per Room  \n",
      "9    4.67        Male              2 guests   ₹ 81,000 per Adult  \n",
      "10    4.5        Male                    NA  ₹ 135,000 per Adult  \n",
      "11   4.75        Male              2 guests   ₹ 89,500 per Adult  \n",
      "12    4.5        Male              2 guests  ₹ 145,000 per Adult  \n",
      "13    4.5      Munnar              3 guests    ₹ 95,000 per Room  \n",
      "14    4.5      Munnar            2-3 guests   ₹ 150,000 per Room  \n",
      "15    4.5      Jaipur              3 guests    ₹ 99,500 per Room  \n",
      "16    4.5      Jaipur            1-3 guests     ₹ 5,500 per Room  \n",
      "17    4.5     Corbett              3 guests     ₹ 3,499 per Room  \n",
      "18    4.5      Jaipur              3 guests   ₹ 127,100 per Room  \n",
      "19    4.5        Ooty            2-3 guests    ₹ 80,000 per Room  \n"
     ]
    }
   ],
   "source": [
    "import pandas as pd\n",
    "\n",
    "# Create a dictionary with the lists as values\n",
    "data = {\n",
    "    'Resort': resorts,\n",
    "    'Rating': ratings,\n",
    "    'Place': places,\n",
    "    'Rooms': rooms,\n",
    "    'Rates': rates\n",
    "}\n",
    "\n",
    "# Create a data frame from the dictionary\n",
    "df = pd.DataFrame(data)\n",
    "\n",
    "# Print the data frame\n",
    "print(df)\n"
   ]
  },
  {
   "cell_type": "code",
   "execution_count": null,
   "id": "1eb82ad9",
   "metadata": {},
   "outputs": [],
   "source": []
  },
  {
   "cell_type": "code",
   "execution_count": null,
   "id": "5fdd8e00",
   "metadata": {},
   "outputs": [],
   "source": []
  }
 ],
 "metadata": {
  "kernelspec": {
   "display_name": "Python 3 (ipykernel)",
   "language": "python",
   "name": "python3"
  },
  "language_info": {
   "codemirror_mode": {
    "name": "ipython",
    "version": 3
   },
   "file_extension": ".py",
   "mimetype": "text/x-python",
   "name": "python",
   "nbconvert_exporter": "python",
   "pygments_lexer": "ipython3",
   "version": "3.9.12"
  }
 },
 "nbformat": 4,
 "nbformat_minor": 5
}
